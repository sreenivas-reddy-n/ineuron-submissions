{
 "cells": [
  {
   "cell_type": "markdown",
   "metadata": {},
   "source": [
    "1. What advantages do Excel spreadsheets have over CSV spreadsheets?\n",
    "\n",
    "Ans:\n",
    "\n",
    "In Excel, spreadsheets can have values of data types other than strings. cells can have different fonts, sizes, or color settings. cells can have varying widths and heights.\n",
    "\n",
    "Excel is used to displays the data in horizontal and vertical rows. The data are usually stored in the cells. We have an option of formulas in Excel that can be used for data and its place of storage. we can even add any charts, graphics, etc. to make it more presentable.\n",
    "\n",
    "CSV file can’t perform operations on data while Excel can perform operations on the data.\n",
    "It also provides the user option for external linking of data from other sources and also the user can do custom add-ins. No such feature is available in CSV format when it is compared with Excel.\n",
    "\n",
    "It is easier for the end user to read large files compared to csv file.\n",
    "\n",
    "Files saved in excel format can not be edited by other text editors and alos Excel files are password protected. But csv files can be changed by other editors also and csv files are not password protected.\n",
    "\n"
   ]
  },
  {
   "cell_type": "markdown",
   "metadata": {},
   "source": [
    "2.What do you pass to csv.reader() and csv.writer() to create reader and writer objects?\n",
    "\n",
    "Ans:\n",
    "\n",
    "we pass a File object, obtained from a call to open()."
   ]
  },
  {
   "cell_type": "markdown",
   "metadata": {},
   "source": [
    "3. What modes do File objects for reader and writer objects need to be opened in?\n",
    "\n",
    "Ans:\n",
    "\n",
    "File objects need to be opened in read-binary ('rb') for reader objects and write-binary ('wb') for writer objects.\n",
    "\n",
    "The following are the modes for opening a file.\n",
    "\n",
    "r: Opens the file in read-only mode. Starts reading from the beginning of the file and is the default mode for the open() function.\n",
    "\n",
    "rb: Opens the file as read-only in binary format and starts reading from the beginning of the file. While binary format can be used for different purposes, it is usually used when dealing with things like images, videos, etc.\n",
    "\n",
    "r+: Opens a file for reading and writing, placing the pointer at the beginning of the file.\n",
    "\n",
    "w: Opens in write-only mode. The pointer is placed at the beginning of the file and this will overwrite any existing file with the same name. It will create a new file if one with the same name doesn't exist.\n",
    "\n",
    "wb: Opens a write-only file in binary mode.\n",
    "\n",
    "w+: Opens a file for writing and reading.\n",
    "\n",
    "wb+: Opens a file for writing and reading in binary mode.\n",
    "\n",
    "t : Open in text mode. (default)"
   ]
  },
  {
   "cell_type": "code",
   "execution_count": null,
   "metadata": {},
   "outputs": [],
   "source": [
    "f = open(\"example1.py\") #equivalent to 'r' or 'rt'\n",
    "f = open(\"example2.py\", \"w\")# write in text mode\n",
    "f = open(\"example3.jpg\", \"r+b\")# read and write in binary mode"
   ]
  },
  {
   "cell_type": "markdown",
   "metadata": {},
   "source": [
    "4. What method takes a list argument and writes it to a CSV file?\n",
    "\n",
    "Ans:\n",
    "\n",
    "The writerow() method.\n",
    "\n",
    "Python provides an in-built module called csv to work with CSV files. There are various classes provided by this module for writing to CSV:\n",
    "\n",
    "Using csv.writer class\n",
    "\n",
    "Using csv.DictWriter class\n",
    "\n",
    "\n",
    "a.Syntax: csv.writer(csvfile, dialect='excel', **fmtparams)\n",
    "\n",
    "Parameters:\n",
    "\n",
    "csvfile: A file object with write() method.\n",
    "\n",
    "dialect (optional): Name of the dialect to be used.\n",
    "\n",
    "fmtparams (optional): Formatting parameters that will overwrite those specified in the dialect.\n",
    "\n",
    "csv.writer class provides two methods for writing to CSV. They are writerow() and writerows().\n",
    "\n",
    "writerow(): The writerow() method for Writer objects takes a list argument. Each value in the list is placed in its own cell in the output CSV file. The return value of writerow() is the number of characters written to the file for that row (including newline characters).\n",
    "\n",
    "Syntax: writerow(fields)\n",
    "\n",
    "writerows(): This method is used to write multiple rows at a time. This can be used to write rows list.\n",
    "Syntax:\n",
    "\n",
    "Writing CSV files in Python\n",
    "\n",
    "writerows(rows)\n",
    "\n",
    "\n",
    "b.Using csv.DictWriter class\n",
    "This class returns a writer object which maps dictionaries onto output rows."
   ]
  },
  {
   "cell_type": "markdown",
   "metadata": {},
   "source": [
    "5. What do the keyword arguments delimiter and line terminator do?\n",
    "\n",
    "Ans:\n",
    "\n",
    "The delimiter argument changes the string used to separate cells in a row. The lineterminator argument changes the string used to separate rows.\n",
    "\n",
    "The delimiter is the character that appears between cells on a row. By default, the delimiter for a CSV file is a comma. The line terminator is the character that comes at the end of a row. By default, the line terminator is a newline. we can change characters to different values by using the delimiter and lineterminator keyword arguments with csv.writer().\n",
    "\n",
    "Passing delimeter='\\t' and lineterminator='\\n\\n' \n",
    "\n",
    "changes the character between cells to a tab and the character between rows to two newlines. "
   ]
  },
  {
   "cell_type": "markdown",
   "metadata": {},
   "source": [
    "6. What function takes a string of JSON data and returns a Python data structure?\n",
    "\n",
    "Ans:\n",
    "\n",
    "json.loads()\n",
    "\n"
   ]
  },
  {
   "cell_type": "markdown",
   "metadata": {},
   "source": [
    "7. What function takes a Python data structure and returns a string of JSON data?\n",
    "\n",
    "Ans:\n",
    "\n",
    "json.dumps()"
   ]
  },
  {
   "cell_type": "code",
   "execution_count": null,
   "metadata": {},
   "outputs": [],
   "source": []
  }
 ],
 "metadata": {
  "kernelspec": {
   "display_name": "Python 3",
   "language": "python",
   "name": "python3"
  },
  "language_info": {
   "codemirror_mode": {
    "name": "ipython",
    "version": 3
   },
   "file_extension": ".py",
   "mimetype": "text/x-python",
   "name": "python",
   "nbconvert_exporter": "python",
   "pygments_lexer": "ipython3",
   "version": "3.8.5"
  }
 },
 "nbformat": 4,
 "nbformat_minor": 4
}
