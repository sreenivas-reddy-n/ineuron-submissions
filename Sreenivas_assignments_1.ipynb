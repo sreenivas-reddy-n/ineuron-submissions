{
 "cells": [
  {
   "cell_type": "markdown",
   "metadata": {},
   "source": [
    "1. In the below elements which of them are values or an expression? eg:- values can be integer or string and expressions will be mathematical operators.\n",
    "* \n",
    "'hello'\n",
    "-87.8\n",
    "- \n",
    "/ \n",
    "+\t\n",
    "6 \n",
    "\n",
    "Answer: \n",
    "\n",
    "Values: - 'hello', -87.8, 6\n",
    "\n",
    "Expressions: - *, -, /, +\n"
   ]
  },
  {
   "cell_type": "markdown",
   "metadata": {},
   "source": [
    "2. What is the difference between string and variable?\n",
    "Answer:\n",
    "String is data type for sequence of characters. Strings are a contiguous set of characters represented in the quotation marks. In python it is derived data type. Strings are immutable.\n",
    "\n",
    "Variable is a reserved memory location to store data values. Variables are references that we create to refer to other values in program.\n"
   ]
  },
  {
   "cell_type": "markdown",
   "metadata": {},
   "source": [
    "3. Describe three different data types.\n",
    "\n",
    "Ans: \n",
    "Numeric data types: int, float, complex\n",
    "Integers can be of any length, it is only limited by the memory available. Ex: form with 0-9 digits.\n",
    "A floating-point number is accurate up to 15 decimal places. Integers and floating points are separated by decimal points.\n",
    "Ex: 1.0 (1 is integer, 1.0 is floating point number.)\n",
    "Complex numbers are in the form a+ib, where a is real number and y is the imaginary part.\n",
    "\n",
    "List: List is an ordered sequence of types. All the items in a list do not need to be the same type. List are mutable, means the value of elements of a list can be altered.\n",
    "\n",
    "Tuple: it is an ordered sequence of items same as a list. They only difference is that tuples are immutable, means once created cannot be modified.\n",
    "Set: Set is an unordered collection of unique elements. Sets are used to eliminate the duplicates.\n",
    "\n",
    "String: String is a single or group of characters represented in quotes.\n"
   ]
  },
  {
   "cell_type": "markdown",
   "metadata": {},
   "source": [
    "4. What is an expression made up of? What do all expressions do?\n",
    "\n",
    "Ans: An expression is an instruction that combines of values, variables, operators and evaluates down to a single value. Expressions need to be evaluated. Expressions are representations of value. Expressions are different from statement in the fact that statements do something while expressions are representation of value.\n"
   ]
  },
  {
   "cell_type": "markdown",
   "metadata": {},
   "source": [
    "5. This assignment statements, like spam = 10. What is the difference between an expression and a statement?\n",
    "\n",
    "Ans: \n",
    "\n",
    "Expression is a combination of variables, operations and values that yields a result value.\n",
    "Ex:  5*3, X+2\n",
    "Statements represent an action or command.\n",
    "Ex: print statements (print ‘welcome’), assignment statements(x = 5) etc.\n"
   ]
  },
  {
   "cell_type": "markdown",
   "metadata": {},
   "source": [
    "6. After running the following code, what does the variable bacon contain?"
   ]
  },
  {
   "cell_type": "code",
   "execution_count": 1,
   "metadata": {},
   "outputs": [],
   "source": [
    "bacon = 22"
   ]
  },
  {
   "cell_type": "code",
   "execution_count": null,
   "metadata": {},
   "outputs": [],
   "source": [
    "bacon + 1"
   ]
  },
  {
   "cell_type": "code",
   "execution_count": 5,
   "metadata": {},
   "outputs": [
    {
     "data": {
      "text/plain": [
       "22"
      ]
     },
     "execution_count": 5,
     "metadata": {},
     "output_type": "execute_result"
    }
   ],
   "source": [
    "bacon"
   ]
  },
  {
   "cell_type": "markdown",
   "metadata": {},
   "source": [
    "Ans: 22"
   ]
  },
  {
   "cell_type": "markdown",
   "metadata": {},
   "source": [
    "7. What should the values of the following two terms be?\n",
    "'spam' + 'spamspam'\n",
    "'spam' * 3\n"
   ]
  },
  {
   "cell_type": "code",
   "execution_count": 6,
   "metadata": {},
   "outputs": [
    {
     "data": {
      "text/plain": [
       "'spamspamspam'"
      ]
     },
     "execution_count": 6,
     "metadata": {},
     "output_type": "execute_result"
    }
   ],
   "source": [
    "'spam' + 'spamspam'"
   ]
  },
  {
   "cell_type": "code",
   "execution_count": 7,
   "metadata": {},
   "outputs": [
    {
     "data": {
      "text/plain": [
       "'spamspamspam'"
      ]
     },
     "execution_count": 7,
     "metadata": {},
     "output_type": "execute_result"
    }
   ],
   "source": [
    "'spam' * 3"
   ]
  },
  {
   "cell_type": "markdown",
   "metadata": {},
   "source": [
    "Ans: \n",
    "1st term answer:  'spamspamspam'\n",
    "2nd term answer:  'spamspamspam'"
   ]
  },
  {
   "cell_type": "markdown",
   "metadata": {},
   "source": [
    "8. Why is eggs a valid variable name while 100 is invalid?\n",
    "\n",
    "Ans: Every language has some syntax rules, based on syntax rules the variable name start with either underscore special character or alphabet and no spaces between variable name (it should be like abc not a b c).\n",
    "Variable names cannot begin with a number. In the above question 100 is invalid variable name."
   ]
  },
  {
   "cell_type": "markdown",
   "metadata": {},
   "source": [
    "9. What three functions can be used to get the integer, floating-point number, or string version of a value?\n",
    "\n",
    "Ans: The int(), float(), and str() functions will evaluate to the integer, floating-point number, and string version of value passed to them."
   ]
  },
  {
   "cell_type": "markdown",
   "metadata": {},
   "source": [
    "10. Why does this expression cause an error? How can you fix it?\n",
    "'I have eaten ' + 99 + ' burritos.'\n",
    "\n",
    "Ans: In the above expression all are strings except 99. 99 is integer and is not directly concatenated to other strings with the + operator. Strings can be concatenated to other strings with + operator.\n",
    "The correct way is 'I have eaten ' + str(99) + ' burritos.'"
   ]
  }
 ],
 "metadata": {
  "kernelspec": {
   "display_name": "Python 3",
   "language": "python",
   "name": "python3"
  },
  "language_info": {
   "codemirror_mode": {
    "name": "ipython",
    "version": 3
   },
   "file_extension": ".py",
   "mimetype": "text/x-python",
   "name": "python",
   "nbconvert_exporter": "python",
   "pygments_lexer": "ipython3",
   "version": "3.8.5"
  }
 },
 "nbformat": 4,
 "nbformat_minor": 4
}
